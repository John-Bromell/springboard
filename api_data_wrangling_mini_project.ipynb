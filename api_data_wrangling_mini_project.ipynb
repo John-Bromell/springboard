{
 "cells": [
  {
   "cell_type": "markdown",
   "metadata": {},
   "source": [
    "This exercise will require you to pull some data from the Qunadl API. Qaundl is currently the most widely used aggregator of financial market data."
   ]
  },
  {
   "cell_type": "markdown",
   "metadata": {},
   "source": [
    "As a first step, you will need to register a free account on the http://www.quandl.com website."
   ]
  },
  {
   "cell_type": "markdown",
   "metadata": {},
   "source": [
    "After you register, you will be provided with a unique API key, that you should store:"
   ]
  },
  {
   "cell_type": "code",
   "execution_count": 5,
   "metadata": {},
   "outputs": [],
   "source": [
    "# Store the APIkey as a string - according to PEP8, constants are always named in all upper case\n",
    "API_KEY = 'kxM3T-Rz6fsBBWBPmBrh'"
   ]
  },
  {
   "cell_type": "markdown",
   "metadata": {},
   "source": [
    "Qaundl has a large number of data sources, but, unfortunately, most of them require a Premium subscription. Still, there are also a good number of free datasets."
   ]
  },
  {
   "cell_type": "markdown",
   "metadata": {},
   "source": [
    "For this mini project, we will focus on equities data from the Frankfurt Stock Exhange (FSE), which is available for free. We'll try and analyze the stock prices of a company called Carl Zeiss Meditec, which manufactures tools for eye examinations, as well as medical lasers for laser eye surgery: https://www.zeiss.com/meditec/int/home.html. The company is listed under the stock ticker AFX_X."
   ]
  },
  {
   "cell_type": "markdown",
   "metadata": {},
   "source": [
    "You can find the detailed Quandl API instructions here: https://docs.quandl.com/docs/time-series"
   ]
  },
  {
   "cell_type": "markdown",
   "metadata": {},
   "source": [
    "While there is a dedicated Python package for connecting to the Quandl API, we would prefer that you use the *requests* package, which can be easily downloaded using *pip* or *conda*. You can find the documentation for the package here: http://docs.python-requests.org/en/master/ "
   ]
  },
  {
   "cell_type": "markdown",
   "metadata": {},
   "source": [
    "Finally, apart from the *requests* package, you are encouraged to not use any third party Python packages, such as *pandas*, and instead focus on what's available in the Python Standard Library (the *collections* module might come in handy: https://pymotw.com/3/collections/ ).\n",
    "Also, since you won't have access to DataFrames, you are encouraged to us Python's native data structures - preferably dictionaries, though some questions can also be answered using lists.\n",
    "You can read more on these data structures here: https://docs.python.org/3/tutorial/datastructures.html"
   ]
  },
  {
   "cell_type": "markdown",
   "metadata": {},
   "source": [
    "Keep in mind that the JSON responses you will be getting from the API map almost one-to-one to Python's dictionaries. Unfortunately, they can be very nested, so make sure you read up on indexing dictionaries in the documentation provided above."
   ]
  },
  {
   "cell_type": "code",
   "execution_count": 87,
   "metadata": {},
   "outputs": [],
   "source": [
    "# First, import the relevant modules\n",
    "import requests\n",
    "import collections\n",
    "#import json\n",
    "#import quandl"
   ]
  },
  {
   "cell_type": "code",
   "execution_count": 91,
   "metadata": {},
   "outputs": [
    {
     "name": "stdout",
     "output_type": "stream",
     "text": [
      "<class 'requests.models.Response'>\n"
     ]
    }
   ],
   "source": [
    "# Now, call the Quandl API and pull out a small sample of the data (only one day) to get a glimpse\n",
    "# into the JSON structure that will be returned\n",
    "# curl \"https://www.quandl.com/api/v3/datasets/WIKI/FB/data.json?api_key=\"+API_KEY\n",
    "url = 'https://www.quandl.com/api/v3/datasets/FSE/AFX_X-Carl-Zeiss-Meditec-AFX_X/data.json'\n",
    "r = requests.get(url)\n",
    "json_data = r.json()\n",
    "print(type(r))"
   ]
  },
  {
   "cell_type": "code",
   "execution_count": 83,
   "metadata": {
    "scrolled": false
   },
   "outputs": [
    {
     "name": "stdout",
     "output_type": "stream",
     "text": [
      "limit:  None\n",
      "transform:  None\n",
      "column_index:  None\n",
      "column_names:  ['Date', 'Open', 'High', 'Low', 'Close', 'Change', 'Traded Volume', 'Turnover', 'Last Price of the Day', 'Daily Traded Units', 'Daily Turnover']\n",
      "start_date:  2000-06-07\n",
      "end_date:  2019-11-13\n",
      "frequency:  daily\n",
      "collapse:  None\n",
      "order:  None\n",
      "['2019-11-13', 100.4, 102.3, 100.4, 102.3, None, 106648.0, 10854356.0, None, None, None]\n",
      "['2019-11-12', 101.1, 102.0, 98.9, 101.0, None, 128193.0, 12877095.0, None, None, None]\n",
      "['2019-11-11', 102.1, 103.8, 100.6, 100.8, None, 95512.0, 9684446.0, None, None, None]\n",
      "['2019-11-08', 101.8, 102.8, 100.2, 101.8, None, 127304.0, 12917154.0, None, None, None]\n",
      "['2019-11-07', 103.7, 104.1, 101.2, 102.2, None, 145112.0, 14855882.0, None, None, None]\n"
     ]
    }
   ],
   "source": [
    "# Inspect the JSON structure of the object you created, and take note of how nested it is,\n",
    "# as well as the overall structure\n",
    "\n",
    "# Show all the introductory information.\n",
    "for k in json_data['dataset_data'].keys():\n",
    "    if k != 'data':\n",
    "        print(k + ': ', json_data['dataset_data'][k])\n",
    "\n",
    "# Print the first five rows of data.\n",
    "for row in json_data['dataset_data']['data'][0:5]:\n",
    "    print(row)"
   ]
  },
  {
   "cell_type": "markdown",
   "metadata": {},
   "source": [
    "These are your tasks for this mini project:\n",
    "\n",
    "1. Collect data from the Franfurt Stock Exchange, for the ticker AFX_X, for the whole year 2017 (keep in mind that the date format is YYYY-MM-DD).\n",
    "2. Convert the returned JSON object into a Python dictionary.\n",
    "3. Calculate what the highest and lowest opening prices were for the stock in this period.\n",
    "4. What was the largest change in any one day (based on High and Low price)?\n",
    "5. What was the largest change between any two days (based on Closing Price)?\n",
    "6. What was the average daily trading volume during this year?\n",
    "7. (Optional) What was the median trading volume during this year. (Note: you may need to implement your own function for calculating the median.)"
   ]
  },
  {
   "cell_type": "markdown",
   "metadata": {
    "collapsed": true
   },
   "source": [
    "## Question 1"
   ]
  },
  {
   "cell_type": "code",
   "execution_count": 89,
   "metadata": {},
   "outputs": [],
   "source": [
    "# Request a start date of Jan 1, 2017 and an end date of Dec 31, 2017.\n",
    "url_2017 = 'https://www.quandl.com/api/v3/datasets/FSE/AFX_X-Carl-Zeiss-Meditec-AFX_X/data.json?start_date=2017-01-01&end_date=2017-12-31'\n",
    "r_2017 = requests.get(url_2017)"
   ]
  },
  {
   "cell_type": "markdown",
   "metadata": {},
   "source": [
    "## Question 2"
   ]
  },
  {
   "cell_type": "code",
   "execution_count": 90,
   "metadata": {},
   "outputs": [
    {
     "name": "stdout",
     "output_type": "stream",
     "text": [
      "<class 'dict'>\n"
     ]
    }
   ],
   "source": [
    "json_data_2017 = r_2017.json()\n",
    "\n",
    "# json_data_2017 should have a datatype of dict.\n",
    "print(type(json_data_2017))"
   ]
  },
  {
   "cell_type": "markdown",
   "metadata": {},
   "source": [
    "## Question 3"
   ]
  },
  {
   "cell_type": "code",
   "execution_count": 104,
   "metadata": {},
   "outputs": [
    {
     "name": "stdout",
     "output_type": "stream",
     "text": [
      "highest price:  53.11\n",
      "lowest price:  34.0\n"
     ]
    }
   ],
   "source": [
    "# Initialize highest_price and lowest_price.\n",
    "highest_price = -1\n",
    "lowest_price = -1\n",
    "\n",
    "# Look through the 2017 data for the highest and lowest price to assign to these variables.\n",
    "for row in json_data_2017['dataset_data']['data']:\n",
    "    # Check that the value is not left blank.\n",
    "    if row[1] != None:\n",
    "        if row[1] > highest_price:\n",
    "            highest_price = row[1]\n",
    "        if row[1] < lowest_price or lowest_price < 0:\n",
    "            lowest_price = row[1]\n",
    "\n",
    "# Display the highest and lowest price.\n",
    "print('highest price: ', highest_price)\n",
    "print('lowest price: ', lowest_price)"
   ]
  },
  {
   "cell_type": "markdown",
   "metadata": {},
   "source": [
    "## Question 4"
   ]
  },
  {
   "cell_type": "code",
   "execution_count": 106,
   "metadata": {},
   "outputs": [
    {
     "name": "stdout",
     "output_type": "stream",
     "text": [
      "highest change:  2.8100000000000023\n"
     ]
    }
   ],
   "source": [
    "# Initialize highest_change.\n",
    "highest_change = 0\n",
    "\n",
    "# Look through the 2017 data for the highest change to assign to this variable.\n",
    "for row in json_data_2017['dataset_data']['data']:\n",
    "    # Check that the value is not left blank.\n",
    "    if row[2] != None and row[3] != None:\n",
    "        if row[2] - row[3] > highest_change:\n",
    "            highest_change = row[2] - row[3]\n",
    "\n",
    "# Display the highest change.\n",
    "print('highest change over one day: ', highest_change)"
   ]
  },
  {
   "cell_type": "markdown",
   "metadata": {},
   "source": [
    "## Question 5"
   ]
  },
  {
   "cell_type": "code",
   "execution_count": 110,
   "metadata": {},
   "outputs": [
    {
     "name": "stdout",
     "output_type": "stream",
     "text": [
      "highest change between two days:  1.490000000000002\n"
     ]
    }
   ],
   "source": [
    "# Initialize highest_change.\n",
    "highest_change_2 = 0\n",
    "\n",
    "# Look through the 2017 data for the highest change to assign to this variable.\n",
    "for index, row in enumerate(json_data_2017['dataset_data']['data']):\n",
    "    # Ignore the last day, since there is no 'next day' to compare it to.\n",
    "    if index < len(json_data_2017['dataset_data']['data'])-1:\n",
    "        # Make a row for the next day too.\n",
    "        next_day_row = json_data_2017['dataset_data']['data'][index+1]\n",
    "        # Check that the value is not left blank.\n",
    "        if row[4] != None and next_day_row[4] != None:\n",
    "            if abs(row[4] - next_day_row[4]) > highest_change_2:\n",
    "                highest_change_2 = row[2] - row[3]\n",
    "\n",
    "# Display the highest change.  \n",
    "# Note that I've ignored weekends:  Monday is considered the 'next day' after Friday.\n",
    "print('highest change between two days: ', highest_change_2)"
   ]
  },
  {
   "cell_type": "markdown",
   "metadata": {},
   "source": [
    "## Question 6"
   ]
  },
  {
   "cell_type": "code",
   "execution_count": 111,
   "metadata": {},
   "outputs": [
    {
     "name": "stdout",
     "output_type": "stream",
     "text": [
      "average trade volume:  89124.33725490196\n"
     ]
    }
   ],
   "source": [
    "# Initialize the sum and the divisor for calculating the average.\n",
    "total_traded_volume = 0\n",
    "total_days = 0\n",
    "\n",
    "# Add up all the traded volume of each day.\n",
    "for row in json_data_2017['dataset_data']['data']:\n",
    "    # Check that the value is not left blank.\n",
    "    if row[6] != None:\n",
    "        total_traded_volume += row[6]\n",
    "        total_days += 1\n",
    "\n",
    "average_trade_volume = total_traded_volume/total_days\n",
    "        \n",
    "# Display the average trade volume.\n",
    "print('average trade volume: ', average_trade_volume)"
   ]
  },
  {
   "cell_type": "markdown",
   "metadata": {},
   "source": [
    "## Question 7"
   ]
  },
  {
   "cell_type": "code",
   "execution_count": 114,
   "metadata": {},
   "outputs": [
    {
     "name": "stdout",
     "output_type": "stream",
     "text": [
      "median trade volume:  134965.0\n"
     ]
    }
   ],
   "source": [
    "# A function for calculating the median.\n",
    "def median(inlist):\n",
    "    # If the number of elements is odd, return the middle element.\n",
    "    if len(inlist) % 2 == 1:\n",
    "        return inlist[int((len(inlist)-1)/2)]\n",
    "    # If the number of elements is even, return the average of the two middle elements.\n",
    "    else:\n",
    "        return (inlist[int(len(inlist)/2 -1)]+inlist[int(len(inlist)/2)])/2\n",
    "\n",
    "# Initialize an empty list.\n",
    "traded_volume_list = []\n",
    "\n",
    "# Gather all the traded volume of each day.\n",
    "for row in json_data_2017['dataset_data']['data']:\n",
    "    # Check that the value is not left blank.\n",
    "    if row[6] != None:\n",
    "        traded_volume_list.append(row[6])\n",
    "        \n",
    "# Display the average trade volume.\n",
    "print('median trade volume: ', median(traded_volume_list))"
   ]
  },
  {
   "cell_type": "code",
   "execution_count": null,
   "metadata": {},
   "outputs": [],
   "source": []
  },
  {
   "cell_type": "code",
   "execution_count": null,
   "metadata": {},
   "outputs": [],
   "source": []
  }
 ],
 "metadata": {
  "kernelspec": {
   "display_name": "Python 3",
   "language": "python",
   "name": "python3"
  },
  "language_info": {
   "codemirror_mode": {
    "name": "ipython",
    "version": 3
   },
   "file_extension": ".py",
   "mimetype": "text/x-python",
   "name": "python",
   "nbconvert_exporter": "python",
   "pygments_lexer": "ipython3",
   "version": "3.7.3"
  }
 },
 "nbformat": 4,
 "nbformat_minor": 2
}
