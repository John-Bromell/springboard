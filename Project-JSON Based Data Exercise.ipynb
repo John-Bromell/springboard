{
 "cells": [
  {
   "cell_type": "markdown",
   "metadata": {},
   "source": [
    "# JSON Based Data Exercise, by John Bromell"
   ]
  },
  {
   "cell_type": "markdown",
   "metadata": {},
   "source": [
    "## Import Statements"
   ]
  },
  {
   "cell_type": "code",
   "execution_count": 80,
   "metadata": {},
   "outputs": [],
   "source": [
    "import pandas as pd\n",
    "import json\n",
    "from pandas.io.json import json_normalize"
   ]
  },
  {
   "cell_type": "markdown",
   "metadata": {},
   "source": [
    "## importing data and making a table with json_normalize"
   ]
  },
  {
   "cell_type": "code",
   "execution_count": 81,
   "metadata": {},
   "outputs": [],
   "source": [
    "file_path = 'data/world_bank_projects.json'\n",
    "with open(file_path) as json_file:\n",
    "    json_data = json.load(json_file)\n",
    "# Uncomment the line below to see the table.\n",
    "#json_normalize(json_data).head()"
   ]
  },
  {
   "cell_type": "markdown",
   "metadata": {},
   "source": [
    "## Making another table, this time with pandas"
   ]
  },
  {
   "cell_type": "code",
   "execution_count": 82,
   "metadata": {},
   "outputs": [],
   "source": [
    "json_df = pd.read_json(file_path)\n",
    "# Uncomment the line below to see the table.\n",
    "#json_df.head()"
   ]
  },
  {
   "cell_type": "markdown",
   "metadata": {},
   "source": [
    "## Question 1"
   ]
  },
  {
   "cell_type": "code",
   "execution_count": 13,
   "metadata": {},
   "outputs": [
    {
     "data": {
      "text/plain": [
       "Indonesia             19\n",
       "China                 19\n",
       "Vietnam               17\n",
       "India                 16\n",
       "Yemen, Republic of    13\n",
       "Bangladesh            12\n",
       "Morocco               12\n",
       "Nepal                 12\n",
       "Africa                11\n",
       "Mozambique            11\n",
       "Name: countryshortname, dtype: int64"
      ]
     },
     "execution_count": 13,
     "metadata": {},
     "output_type": "execute_result"
    }
   ],
   "source": [
    "# Get the countryshortname column, \n",
    "# use value_counts() to get a series of values,\n",
    "# use sort_values() with ascending=False to give the most frequent countries first,\n",
    "# and finally head(10) to show the top 10 countries in the Series.\n",
    "json_df['countryshortname'].value_counts().sort_values(ascending=False).head(10)"
   ]
  },
  {
   "cell_type": "markdown",
   "metadata": {},
   "source": [
    "## Question 2"
   ]
  },
  {
   "cell_type": "code",
   "execution_count": 83,
   "metadata": {},
   "outputs": [
    {
     "data": {
      "text/html": [
       "<div>\n",
       "<style scoped>\n",
       "    .dataframe tbody tr th:only-of-type {\n",
       "        vertical-align: middle;\n",
       "    }\n",
       "\n",
       "    .dataframe tbody tr th {\n",
       "        vertical-align: top;\n",
       "    }\n",
       "\n",
       "    .dataframe thead th {\n",
       "        text-align: right;\n",
       "    }\n",
       "</style>\n",
       "<table border=\"1\" class=\"dataframe\">\n",
       "  <thead>\n",
       "    <tr style=\"text-align: right;\">\n",
       "      <th></th>\n",
       "      <th>name</th>\n",
       "      <th>count</th>\n",
       "    </tr>\n",
       "    <tr>\n",
       "      <th>code</th>\n",
       "      <th></th>\n",
       "      <th></th>\n",
       "    </tr>\n",
       "  </thead>\n",
       "  <tbody>\n",
       "    <tr>\n",
       "      <th>11</th>\n",
       "      <td>Environment and natural resources management</td>\n",
       "      <td>250</td>\n",
       "    </tr>\n",
       "    <tr>\n",
       "      <th>10</th>\n",
       "      <td>Rural development</td>\n",
       "      <td>216</td>\n",
       "    </tr>\n",
       "    <tr>\n",
       "      <th>8</th>\n",
       "      <td>Human development</td>\n",
       "      <td>210</td>\n",
       "    </tr>\n",
       "    <tr>\n",
       "      <th>2</th>\n",
       "      <td>Public sector governance</td>\n",
       "      <td>199</td>\n",
       "    </tr>\n",
       "    <tr>\n",
       "      <th>6</th>\n",
       "      <td>Social protection and risk management</td>\n",
       "      <td>168</td>\n",
       "    </tr>\n",
       "    <tr>\n",
       "      <th>4</th>\n",
       "      <td>Financial and private sector development</td>\n",
       "      <td>146</td>\n",
       "    </tr>\n",
       "    <tr>\n",
       "      <th>7</th>\n",
       "      <td>Social dev/gender/inclusion</td>\n",
       "      <td>130</td>\n",
       "    </tr>\n",
       "    <tr>\n",
       "      <th>5</th>\n",
       "      <td>Trade and integration</td>\n",
       "      <td>77</td>\n",
       "    </tr>\n",
       "    <tr>\n",
       "      <th>9</th>\n",
       "      <td>Urban development</td>\n",
       "      <td>50</td>\n",
       "    </tr>\n",
       "    <tr>\n",
       "      <th>1</th>\n",
       "      <td>Economic management</td>\n",
       "      <td>38</td>\n",
       "    </tr>\n",
       "  </tbody>\n",
       "</table>\n",
       "</div>"
      ],
      "text/plain": [
       "                                              name count\n",
       "code                                                    \n",
       "11    Environment and natural resources management   250\n",
       "10                               Rural development   216\n",
       "8                                Human development   210\n",
       "2                         Public sector governance   199\n",
       "6            Social protection and risk management   168\n",
       "4         Financial and private sector development   146\n",
       "7                      Social dev/gender/inclusion   130\n",
       "5                            Trade and integration    77\n",
       "9                                Urban development    50\n",
       "1                              Economic management    38"
      ]
     },
     "execution_count": 83,
     "metadata": {},
     "output_type": "execute_result"
    }
   ],
   "source": [
    "# Get the series of mj_theme_namecodes: mjtheme_list_series\n",
    "mjtheme_list_series = json_df['mjtheme_namecode']\n",
    "\n",
    "# Initialize an empty dictionary in which to store the counts: mjtheme_code_counts\n",
    "mjtheme_code_counts = {}\n",
    "\n",
    "# Initialize a second empty dictionary in which each code is assigned a name.\n",
    "mjtheme_decoder = {}\n",
    "\n",
    "# Look at every mjtheme.\n",
    "for mjtheme_list in mjtheme_list_series:\n",
    "    for mjtheme in mjtheme_list:\n",
    "        # If the mjtheme is already in the mjtheme_code_counts dictionary, \n",
    "        # increment the count by one.\n",
    "        if mjtheme['code'] in mjtheme_code_counts:\n",
    "            mjtheme_code_counts[mjtheme['code']] += 1\n",
    "        # Otherwise, add it to the dictionary and set the count to one.\n",
    "        else:\n",
    "            mjtheme_code_counts[mjtheme['code']] = 1 \n",
    "        # Lastly, if the theme's name was included, \n",
    "        # add it to the second dictionary if we haven't already.\n",
    "        if mjtheme['name'] != '' and mjtheme['code'] not in mjtheme_decoder:\n",
    "            mjtheme_decoder[mjtheme['code']] = mjtheme['name']\n",
    "\n",
    "# Make a dataframe showing every code, name, and count: mjtheme_df\n",
    "mjtheme_df = pd.DataFrame([mjtheme_decoder, mjtheme_code_counts]).transpose()\n",
    "mjtheme_df.index.name = 'code'\n",
    "mjtheme_df.columns = ['name', 'count']\n",
    "mjtheme_df = mjtheme_df.sort_values(by='count', ascending=False)\n",
    "# Display the top ten mjthemes using head(10).\n",
    "mjtheme_df.head(10)\n",
    "        "
   ]
  },
  {
   "cell_type": "markdown",
   "metadata": {},
   "source": [
    "## Question 3"
   ]
  },
  {
   "cell_type": "code",
   "execution_count": 84,
   "metadata": {},
   "outputs": [
    {
     "name": "stdout",
     "output_type": "stream",
     "text": [
      "Before, the twelfth row had a blank name.\n",
      "[{'code': '4', 'name': ''}]\n",
      "But now I've filled in all the blanks.\n",
      "[{'code': '4', 'name': 'Financial and private sector development'}]\n"
     ]
    }
   ],
   "source": [
    "# Currently, some of the names are left blank.  For example, in the twelfth row:\n",
    "print(\"Before, the twelfth row had a blank name.\")\n",
    "print(json_df['mjtheme_namecode'][12])\n",
    "\n",
    "# Look at every mjtheme.\n",
    "for mjtheme_list in mjtheme_list_series:\n",
    "    for mjtheme in mjtheme_list:\n",
    "        #Replace every blank name using the mjtheme_decoder constructed for Question 2.\n",
    "        if mjtheme['name'] == '':\n",
    "            mjtheme['name'] = mjtheme_decoder[mjtheme['code']]\n",
    "\n",
    "# Replace the old column with the new one.\n",
    "new_json_df = json_df\n",
    "new_json_df['mjtheme_namecode'] = mjtheme_list_series\n",
    "print(\"But now I've filled in all the blanks.\")\n",
    "print(new_json_df['mjtheme_namecode'][12])"
   ]
  }
 ],
 "metadata": {
  "kernelspec": {
   "display_name": "Python 3",
   "language": "python",
   "name": "python3"
  },
  "language_info": {
   "codemirror_mode": {
    "name": "ipython",
    "version": 3
   },
   "file_extension": ".py",
   "mimetype": "text/x-python",
   "name": "python",
   "nbconvert_exporter": "python",
   "pygments_lexer": "ipython3",
   "version": "3.7.3"
  }
 },
 "nbformat": 4,
 "nbformat_minor": 2
}
